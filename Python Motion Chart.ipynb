{
 "cells": [
  {
   "cell_type": "code",
   "execution_count": 2,
   "metadata": {},
   "outputs": [],
   "source": [
    "import pandas as pd\n",
    "from motionchart.motionchart import MotionChart"
   ]
  },
  {
   "cell_type": "code",
   "execution_count": 3,
   "metadata": {},
   "outputs": [],
   "source": [
    "hpi = pd.read_csv('House Price Index.csv')"
   ]
  },
  {
   "cell_type": "code",
   "execution_count": 4,
   "metadata": {},
   "outputs": [],
   "source": [
    "hpi.rename(columns={'Unnamed: 0': 'Date'}, inplace=True)\n",
    "hpi.rename(columns={'Residential Property Price Index ;  Sydney ;': 'NSW'}, inplace=True)\n",
    "hpi.rename(columns={'Residential Property Price Index ;  Melbourne ;': 'VIC'}, inplace=True)\n",
    "hpi.rename(columns={'Residential Property Price Index ;  Darwin ;': 'NT'}, inplace=True)\n",
    "hpi.rename(columns={'Residential Property Price Index ;  Canberra ;': 'ACT'}, inplace=True)\n",
    "hpi.rename(columns={'Residential Property Price Index ;  Hobart ;': 'TAS'}, inplace=True)\n",
    "hpi.rename(columns={'Residential Property Price Index ;  Perth ;': 'WA'}, inplace=True)\n",
    "hpi.rename(columns={'Residential Property Price Index ;  Adelaide ;': 'SA'}, inplace=True)\n",
    "hpi.rename(columns={'Residential Property Price Index ;  Brisbane ;': 'QLD'}, inplace=True)"
   ]
  },
  {
   "cell_type": "code",
   "execution_count": 5,
   "metadata": {},
   "outputs": [],
   "source": [
    "hpi = pd.melt(hpi, id_vars=['Date'], value_vars=['NSW', 'QLD', 'SA', 'TAS', 'VIC', 'WA', 'ACT', 'NT'],\n",
    "              var_name='State', value_name='House Price Index')\n",
    "\n",
    "hpi['Date'] = pd.to_datetime(hpi.Date)\n"
   ]
  },
  {
   "cell_type": "code",
   "execution_count": 6,
   "metadata": {},
   "outputs": [],
   "source": [
    "erp = pd.read_csv('erp_by state and gender.csv')"
   ]
  },
  {
   "cell_type": "code",
   "execution_count": 7,
   "metadata": {},
   "outputs": [],
   "source": [
    "erp.rename(columns={'Unnamed: 0': 'Date'}, inplace=True)\n",
    "erp.rename(columns={'Estimated Resident Population ;  Persons ;  Australia ;': 'AUS'}, inplace=True)\n",
    "erp.rename(columns={'Estimated Resident Population ;  Persons ;  Australian Capital Territory ;': 'ACT'}, inplace=True)\n",
    "erp.rename(columns={'Estimated Resident Population ;  Persons ;  Northern Territory ;': 'NT'}, inplace=True)\n",
    "erp.rename(columns={'Estimated Resident Population ;  Persons ;  Victoria ;': 'VIC'}, inplace=True)\n",
    "erp.rename(columns={'Estimated Resident Population ;  Persons ;  Queensland ;': 'QLD'}, inplace=True)\n",
    "erp.rename(columns={'Estimated Resident Population ;  Persons ;  New South Wales ;': 'NSW'}, inplace=True)\n",
    "erp.rename(columns={'Estimated Resident Population ;  Persons ;  Tasmania ;': 'TAS'}, inplace=True)\n",
    "erp.rename(columns={'Estimated Resident Population ;  Persons ;  Western Australia ;': 'WA'}, inplace=True)\n",
    "erp.rename(columns={'Estimated Resident Population ;  Persons ;  South Australia ;': 'SA'}, inplace=True)"
   ]
  },
  {
   "cell_type": "code",
   "execution_count": 8,
   "metadata": {},
   "outputs": [],
   "source": [
    "erp = pd.melt(erp, id_vars=['Date'], value_vars=['NSW', 'ACT', 'NT', 'VIC', 'QLD', 'WA', 'TAS', 'SA'], var_name='State', value_name='Population')"
   ]
  },
  {
   "cell_type": "code",
   "execution_count": 9,
   "metadata": {},
   "outputs": [],
   "source": [
    "erp['Date'] = pd.to_datetime(erp.Date)\n"
   ]
  },
  {
   "cell_type": "code",
   "execution_count": 10,
   "metadata": {},
   "outputs": [],
   "source": [
    "empRate = pd.read_excel('SA4 Time Series - October 2016.xls', sheet_name='Time Series')"
   ]
  },
  {
   "cell_type": "code",
   "execution_count": 11,
   "metadata": {},
   "outputs": [],
   "source": [
    "empRate.rename(columns={'State/Territory': 'State'}, inplace=True)\n",
    "empRate.rename(columns={'Unemployment Rate (15+)': 'Unemployment Rate'}, inplace=True)\n",
    "\n",
    "empRate['Date'] = pd.to_datetime(empRate.Date)\n",
    "\n",
    "empRate = empRate[['Date', 'State', 'Unemployment Rate']]\n"
   ]
  },
  {
   "cell_type": "code",
   "execution_count": 12,
   "metadata": {},
   "outputs": [],
   "source": [
    "mergedDF = pd.merge(pd.merge(hpi, erp, on=['Date', 'State']), empRate, on=['Date', 'State'])\n",
    "\n",
    "mergedDF['Date'] = mergedDF.Date.apply(lambda x: x.strftime('%m-%Y'))"
   ]
  },
  {
   "cell_type": "code",
   "execution_count": 13,
   "metadata": {},
   "outputs": [
    {
     "data": {
      "text/html": [
       "\n",
       "        <iframe\n",
       "            width=\"900\"\n",
       "            height=\"700\"\n",
       "            src=\"mc_temp.html\"\n",
       "            frameborder=\"0\"\n",
       "            allowfullscreen\n",
       "        ></iframe>\n",
       "        "
      ],
      "text/plain": [
       "<IPython.lib.display.IFrame at 0x2092200b7f0>"
      ]
     },
     "metadata": {},
     "output_type": "display_data"
    }
   ],
   "source": [
    "m_chart = MotionChart(df=mergedDF, key='Date', x='Unemployment Rate', xscale='linear', y='House Price Index', yscale='linear', size='Population', color='State', category='State')\n",
    "m_chart.to_notebook()"
   ]
  },
  {
   "cell_type": "code",
   "execution_count": 14,
   "metadata": {},
   "outputs": [
    {
     "data": {
      "text/html": [
       "<div>\n",
       "<style scoped>\n",
       "    .dataframe tbody tr th:only-of-type {\n",
       "        vertical-align: middle;\n",
       "    }\n",
       "\n",
       "    .dataframe tbody tr th {\n",
       "        vertical-align: top;\n",
       "    }\n",
       "\n",
       "    .dataframe thead th {\n",
       "        text-align: right;\n",
       "    }\n",
       "</style>\n",
       "<table border=\"1\" class=\"dataframe\">\n",
       "  <thead>\n",
       "    <tr style=\"text-align: right;\">\n",
       "      <th></th>\n",
       "      <th>House Price Index</th>\n",
       "      <th>Population</th>\n",
       "      <th>Unemployment Rate</th>\n",
       "    </tr>\n",
       "  </thead>\n",
       "  <tbody>\n",
       "    <tr>\n",
       "      <th>House Price Index</th>\n",
       "      <td>1.000000</td>\n",
       "      <td>0.143143</td>\n",
       "      <td>0.285891</td>\n",
       "    </tr>\n",
       "    <tr>\n",
       "      <th>Population</th>\n",
       "      <td>0.143143</td>\n",
       "      <td>1.000000</td>\n",
       "      <td>0.276513</td>\n",
       "    </tr>\n",
       "    <tr>\n",
       "      <th>Unemployment Rate</th>\n",
       "      <td>0.285891</td>\n",
       "      <td>0.276513</td>\n",
       "      <td>1.000000</td>\n",
       "    </tr>\n",
       "  </tbody>\n",
       "</table>\n",
       "</div>"
      ],
      "text/plain": [
       "                   House Price Index  Population  Unemployment Rate\n",
       "House Price Index           1.000000    0.143143           0.285891\n",
       "Population                  0.143143    1.000000           0.276513\n",
       "Unemployment Rate           0.285891    0.276513           1.000000"
      ]
     },
     "execution_count": 14,
     "metadata": {},
     "output_type": "execute_result"
    }
   ],
   "source": [
    "mergedDF.corr()"
   ]
  },
  {
   "cell_type": "code",
   "execution_count": null,
   "metadata": {},
   "outputs": [],
   "source": []
  }
 ],
 "metadata": {
  "kernelspec": {
   "display_name": "Python 3",
   "language": "python",
   "name": "python3"
  },
  "language_info": {
   "codemirror_mode": {
    "name": "ipython",
    "version": 3
   },
   "file_extension": ".py",
   "mimetype": "text/x-python",
   "name": "python",
   "nbconvert_exporter": "python",
   "pygments_lexer": "ipython3",
   "version": "3.6.4"
  }
 },
 "nbformat": 4,
 "nbformat_minor": 2
}
